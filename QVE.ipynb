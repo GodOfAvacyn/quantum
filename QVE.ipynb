{
 "cells": [
  {
   "cell_type": "markdown",
   "id": "2b860d24-fefe-48a2-aca1-295f3cc6c10a",
   "metadata": {},
   "source": [
    "#### What is a VQE\n",
    "A Quantum Variational Eigensolver is an optimization problem having to do with this equation:\n",
    "\n",
    "$$ E_0 \\leq \\frac{\\langle \\psi | \\hat H | \\psi \\rangle}{\\langle \\psi | \\psi \\rangle}$$\n",
    "We are given a hamiltonian operator $\\hat H$, and we want to find the state $|\\psi\\rangle$ such that this quotient of two dot products is at a minimum. Another way of defining this is treating $|\\psi\\rangle$ as some unitary operator $U(\\theta)$. We can just say that $|\\psi\\rangle$ = $U(\\theta)|\\textbf{0}\\rangle$. So we want to minimize all parameters that go into making $\\theta$:\n",
    "$$ E = \\min_\\theta \\langle \\textbf{0}| U^\\dagger(\\theta) \\hat H U(\\theta)|\\textbf{0}\\rangle$$\n",
    "\n",
    "Yet another way to formalize this: The hermitian operator can be broken up into Pauli matrices, so we can define this thing as a sum:\n",
    "$$ E = \\min_\\theta \\sum_a^P w_a \\langle \\textbf{0}| U^\\dagger(\\theta) \\hat P_a U(\\theta)|\\textbf{0}\\rangle$$\n",
    "From https://arxiv.org/pdf/2111.05176.pdf, each term in the sum can be computed with a quantum computer, and the sum as a whole is computed on a classical computer."
   ]
  },
  {
   "cell_type": "markdown",
   "id": "48a97ec9-4644-48a5-adc9-668bd323e4db",
   "metadata": {},
   "source": [
    "#### The Procedure\n",
    "\n",
    "The procedure for a VQE is as follows:\n",
    "* Find some Hamiltonian we want to pick apart.\n",
    "* Break it apart into pauli operators $P_a$ and corresponding weights $w_a$. $\\hat H = \\sum_a w_a P_a$\n",
    "* Begin a quantum subroitine. Choose an initial state for your $N$ qubits, called an Anstatz. Prepare everything, then apply all of the Pauli operators from the Hamiltonian.\n",
    "* Perform one step of gradient descent, using the definition of the QVE above, to adjust all of the parameters in the Anstatz.\n",
    "This should converge over time, and eventually the dot product defined at the very top of the page (AKA the eigenvalue of this Hamiltonian) will be at a low."
   ]
  },
  {
   "cell_type": "code",
   "execution_count": null,
   "id": "de328af2-d394-4d45-832e-e21c8730ddc2",
   "metadata": {},
   "outputs": [],
   "source": []
  }
 ],
 "metadata": {
  "kernelspec": {
   "display_name": "Python 3 (ipykernel)",
   "language": "python",
   "name": "python3"
  },
  "language_info": {
   "codemirror_mode": {
    "name": "ipython",
    "version": 3
   },
   "file_extension": ".py",
   "mimetype": "text/x-python",
   "name": "python",
   "nbconvert_exporter": "python",
   "pygments_lexer": "ipython3",
   "version": "3.11.5"
  }
 },
 "nbformat": 4,
 "nbformat_minor": 5
}
